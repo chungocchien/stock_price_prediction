{
 "cells": [
  {
   "cell_type": "code",
   "execution_count": 16,
   "metadata": {
    "collapsed": true
   },
   "outputs": [],
   "source": [
    "import pandas as pd\n",
    "from sklearn.model_selection import train_test_split\n",
    "from sklearn.linear_model import LinearRegression\n",
    "from sklearn.metrics import mean_squared_error\n",
    "from sklearn.preprocessing import MinMaxScaler"
   ]
  },
  {
   "cell_type": "code",
   "execution_count": 17,
   "outputs": [
    {
     "data": {
      "text/plain": "  Ticker        Date/Time  Open  High   Low  Close  Volume  Open Interest\n0    MSN  12/25/2017 9:15  73.1  73.1  73.1   73.1    4210              0\n1    MSN  12/25/2017 9:16  73.0  73.0  73.0   73.0    5000              0\n2    MSN  12/25/2017 9:18  73.5  73.5  73.5   73.5     210              0\n3    MSN  12/25/2017 9:20  73.2  73.5  73.1   73.1    2050              0\n4    MSN  12/25/2017 9:21  73.0  73.0  73.0   73.0    1380              0",
      "text/html": "<div>\n<style scoped>\n    .dataframe tbody tr th:only-of-type {\n        vertical-align: middle;\n    }\n\n    .dataframe tbody tr th {\n        vertical-align: top;\n    }\n\n    .dataframe thead th {\n        text-align: right;\n    }\n</style>\n<table border=\"1\" class=\"dataframe\">\n  <thead>\n    <tr style=\"text-align: right;\">\n      <th></th>\n      <th>Ticker</th>\n      <th>Date/Time</th>\n      <th>Open</th>\n      <th>High</th>\n      <th>Low</th>\n      <th>Close</th>\n      <th>Volume</th>\n      <th>Open Interest</th>\n    </tr>\n  </thead>\n  <tbody>\n    <tr>\n      <th>0</th>\n      <td>MSN</td>\n      <td>12/25/2017 9:15</td>\n      <td>73.1</td>\n      <td>73.1</td>\n      <td>73.1</td>\n      <td>73.1</td>\n      <td>4210</td>\n      <td>0</td>\n    </tr>\n    <tr>\n      <th>1</th>\n      <td>MSN</td>\n      <td>12/25/2017 9:16</td>\n      <td>73.0</td>\n      <td>73.0</td>\n      <td>73.0</td>\n      <td>73.0</td>\n      <td>5000</td>\n      <td>0</td>\n    </tr>\n    <tr>\n      <th>2</th>\n      <td>MSN</td>\n      <td>12/25/2017 9:18</td>\n      <td>73.5</td>\n      <td>73.5</td>\n      <td>73.5</td>\n      <td>73.5</td>\n      <td>210</td>\n      <td>0</td>\n    </tr>\n    <tr>\n      <th>3</th>\n      <td>MSN</td>\n      <td>12/25/2017 9:20</td>\n      <td>73.2</td>\n      <td>73.5</td>\n      <td>73.1</td>\n      <td>73.1</td>\n      <td>2050</td>\n      <td>0</td>\n    </tr>\n    <tr>\n      <th>4</th>\n      <td>MSN</td>\n      <td>12/25/2017 9:21</td>\n      <td>73.0</td>\n      <td>73.0</td>\n      <td>73.0</td>\n      <td>73.0</td>\n      <td>1380</td>\n      <td>0</td>\n    </tr>\n  </tbody>\n</table>\n</div>"
     },
     "execution_count": 17,
     "metadata": {},
     "output_type": "execute_result"
    }
   ],
   "source": [
    "df = pd.read_csv('MSN.csv')\n",
    "df.head()"
   ],
   "metadata": {
    "collapsed": false
   }
  },
  {
   "cell_type": "code",
   "execution_count": 18,
   "outputs": [],
   "source": [
    "df['Date/Time'] = pd.to_datetime(df['Date/Time'])\n",
    "df.sort_values('Date/Time', inplace=True)"
   ],
   "metadata": {
    "collapsed": false
   }
  },
  {
   "cell_type": "code",
   "execution_count": 20,
   "outputs": [
    {
     "data": {
      "text/plain": "  Ticker           Date/Time  Open  High   Low  Close  Volume  Open Interest\n0    MSN 2017-12-25 09:15:00  73.1  73.1  73.1   73.1    4210              0\n1    MSN 2017-12-25 09:16:00  73.0  73.0  73.0   73.0    5000              0\n2    MSN 2017-12-25 09:18:00  73.5  73.5  73.5   73.5     210              0\n3    MSN 2017-12-25 09:20:00  73.2  73.5  73.1   73.1    2050              0\n4    MSN 2017-12-25 09:21:00  73.0  73.0  73.0   73.0    1380              0",
      "text/html": "<div>\n<style scoped>\n    .dataframe tbody tr th:only-of-type {\n        vertical-align: middle;\n    }\n\n    .dataframe tbody tr th {\n        vertical-align: top;\n    }\n\n    .dataframe thead th {\n        text-align: right;\n    }\n</style>\n<table border=\"1\" class=\"dataframe\">\n  <thead>\n    <tr style=\"text-align: right;\">\n      <th></th>\n      <th>Ticker</th>\n      <th>Date/Time</th>\n      <th>Open</th>\n      <th>High</th>\n      <th>Low</th>\n      <th>Close</th>\n      <th>Volume</th>\n      <th>Open Interest</th>\n    </tr>\n  </thead>\n  <tbody>\n    <tr>\n      <th>0</th>\n      <td>MSN</td>\n      <td>2017-12-25 09:15:00</td>\n      <td>73.1</td>\n      <td>73.1</td>\n      <td>73.1</td>\n      <td>73.1</td>\n      <td>4210</td>\n      <td>0</td>\n    </tr>\n    <tr>\n      <th>1</th>\n      <td>MSN</td>\n      <td>2017-12-25 09:16:00</td>\n      <td>73.0</td>\n      <td>73.0</td>\n      <td>73.0</td>\n      <td>73.0</td>\n      <td>5000</td>\n      <td>0</td>\n    </tr>\n    <tr>\n      <th>2</th>\n      <td>MSN</td>\n      <td>2017-12-25 09:18:00</td>\n      <td>73.5</td>\n      <td>73.5</td>\n      <td>73.5</td>\n      <td>73.5</td>\n      <td>210</td>\n      <td>0</td>\n    </tr>\n    <tr>\n      <th>3</th>\n      <td>MSN</td>\n      <td>2017-12-25 09:20:00</td>\n      <td>73.2</td>\n      <td>73.5</td>\n      <td>73.1</td>\n      <td>73.1</td>\n      <td>2050</td>\n      <td>0</td>\n    </tr>\n    <tr>\n      <th>4</th>\n      <td>MSN</td>\n      <td>2017-12-25 09:21:00</td>\n      <td>73.0</td>\n      <td>73.0</td>\n      <td>73.0</td>\n      <td>73.0</td>\n      <td>1380</td>\n      <td>0</td>\n    </tr>\n  </tbody>\n</table>\n</div>"
     },
     "execution_count": 20,
     "metadata": {},
     "output_type": "execute_result"
    }
   ],
   "source": [
    "df.head()"
   ],
   "metadata": {
    "collapsed": false
   }
  },
  {
   "cell_type": "code",
   "execution_count": 21,
   "outputs": [
    {
     "data": {
      "text/plain": "  Ticker           Date/Time  Open  High   Low  Close  Volume  Open Interest  \\\n0    MSN 2017-12-25 09:15:00  73.1  73.1  73.1   73.1    4210              0   \n1    MSN 2017-12-25 09:16:00  73.0  73.0  73.0   73.0    5000              0   \n2    MSN 2017-12-25 09:18:00  73.5  73.5  73.5   73.5     210              0   \n3    MSN 2017-12-25 09:20:00  73.2  73.5  73.1   73.1    2050              0   \n4    MSN 2017-12-25 09:21:00  73.0  73.0  73.0   73.0    1380              0   \n\n   Future Price  Price Variation  \n0          73.0             -0.1  \n1          73.5              0.5  \n2          73.1             -0.4  \n3          73.0             -0.1  \n4          73.1              0.1  ",
      "text/html": "<div>\n<style scoped>\n    .dataframe tbody tr th:only-of-type {\n        vertical-align: middle;\n    }\n\n    .dataframe tbody tr th {\n        vertical-align: top;\n    }\n\n    .dataframe thead th {\n        text-align: right;\n    }\n</style>\n<table border=\"1\" class=\"dataframe\">\n  <thead>\n    <tr style=\"text-align: right;\">\n      <th></th>\n      <th>Ticker</th>\n      <th>Date/Time</th>\n      <th>Open</th>\n      <th>High</th>\n      <th>Low</th>\n      <th>Close</th>\n      <th>Volume</th>\n      <th>Open Interest</th>\n      <th>Future Price</th>\n      <th>Price Variation</th>\n    </tr>\n  </thead>\n  <tbody>\n    <tr>\n      <th>0</th>\n      <td>MSN</td>\n      <td>2017-12-25 09:15:00</td>\n      <td>73.1</td>\n      <td>73.1</td>\n      <td>73.1</td>\n      <td>73.1</td>\n      <td>4210</td>\n      <td>0</td>\n      <td>73.0</td>\n      <td>-0.1</td>\n    </tr>\n    <tr>\n      <th>1</th>\n      <td>MSN</td>\n      <td>2017-12-25 09:16:00</td>\n      <td>73.0</td>\n      <td>73.0</td>\n      <td>73.0</td>\n      <td>73.0</td>\n      <td>5000</td>\n      <td>0</td>\n      <td>73.5</td>\n      <td>0.5</td>\n    </tr>\n    <tr>\n      <th>2</th>\n      <td>MSN</td>\n      <td>2017-12-25 09:18:00</td>\n      <td>73.5</td>\n      <td>73.5</td>\n      <td>73.5</td>\n      <td>73.5</td>\n      <td>210</td>\n      <td>0</td>\n      <td>73.1</td>\n      <td>-0.4</td>\n    </tr>\n    <tr>\n      <th>3</th>\n      <td>MSN</td>\n      <td>2017-12-25 09:20:00</td>\n      <td>73.2</td>\n      <td>73.5</td>\n      <td>73.1</td>\n      <td>73.1</td>\n      <td>2050</td>\n      <td>0</td>\n      <td>73.0</td>\n      <td>-0.1</td>\n    </tr>\n    <tr>\n      <th>4</th>\n      <td>MSN</td>\n      <td>2017-12-25 09:21:00</td>\n      <td>73.0</td>\n      <td>73.0</td>\n      <td>73.0</td>\n      <td>73.0</td>\n      <td>1380</td>\n      <td>0</td>\n      <td>73.1</td>\n      <td>0.1</td>\n    </tr>\n  </tbody>\n</table>\n</div>"
     },
     "execution_count": 21,
     "metadata": {},
     "output_type": "execute_result"
    }
   ],
   "source": [
    "# dự đoán biến động giá cổ phiếu sau 1 phút\n",
    "N = 1\n",
    "df['Future Price'] = df['Close'].shift(-N)\n",
    "df['Price Variation'] = df['Future Price'] - df['Close']\n",
    "df.head()"
   ],
   "metadata": {
    "collapsed": false
   }
  },
  {
   "cell_type": "code",
   "execution_count": 22,
   "outputs": [],
   "source": [
    "df.dropna(inplace=True)"
   ],
   "metadata": {
    "collapsed": false
   }
  },
  {
   "cell_type": "code",
   "execution_count": 23,
   "outputs": [],
   "source": [
    "features = ['Open', 'High', 'Low', 'Close', 'Volume']\n",
    "\n",
    "# Chia dữ liệu thành tập huấn luyện và tập kiểm tra\n",
    "X = df[features]\n",
    "y = df['Price Variation']\n",
    "\n",
    "X_train, X_test, y_train, y_test = train_test_split(X, y, test_size=0.2, random_state=2023)\n",
    "#chuẩn hóa dữ liệu\n",
    "scaler = MinMaxScaler()\n",
    "X_train = scaler.fit_transform(X_train)\n",
    "X_test = scaler.transform(X_test)"
   ],
   "metadata": {
    "collapsed": false
   }
  },
  {
   "cell_type": "code",
   "execution_count": 24,
   "outputs": [
    {
     "data": {
      "text/plain": "LinearRegression()",
      "text/html": "<style>#sk-container-id-2 {color: black;background-color: white;}#sk-container-id-2 pre{padding: 0;}#sk-container-id-2 div.sk-toggleable {background-color: white;}#sk-container-id-2 label.sk-toggleable__label {cursor: pointer;display: block;width: 100%;margin-bottom: 0;padding: 0.3em;box-sizing: border-box;text-align: center;}#sk-container-id-2 label.sk-toggleable__label-arrow:before {content: \"▸\";float: left;margin-right: 0.25em;color: #696969;}#sk-container-id-2 label.sk-toggleable__label-arrow:hover:before {color: black;}#sk-container-id-2 div.sk-estimator:hover label.sk-toggleable__label-arrow:before {color: black;}#sk-container-id-2 div.sk-toggleable__content {max-height: 0;max-width: 0;overflow: hidden;text-align: left;background-color: #f0f8ff;}#sk-container-id-2 div.sk-toggleable__content pre {margin: 0.2em;color: black;border-radius: 0.25em;background-color: #f0f8ff;}#sk-container-id-2 input.sk-toggleable__control:checked~div.sk-toggleable__content {max-height: 200px;max-width: 100%;overflow: auto;}#sk-container-id-2 input.sk-toggleable__control:checked~label.sk-toggleable__label-arrow:before {content: \"▾\";}#sk-container-id-2 div.sk-estimator input.sk-toggleable__control:checked~label.sk-toggleable__label {background-color: #d4ebff;}#sk-container-id-2 div.sk-label input.sk-toggleable__control:checked~label.sk-toggleable__label {background-color: #d4ebff;}#sk-container-id-2 input.sk-hidden--visually {border: 0;clip: rect(1px 1px 1px 1px);clip: rect(1px, 1px, 1px, 1px);height: 1px;margin: -1px;overflow: hidden;padding: 0;position: absolute;width: 1px;}#sk-container-id-2 div.sk-estimator {font-family: monospace;background-color: #f0f8ff;border: 1px dotted black;border-radius: 0.25em;box-sizing: border-box;margin-bottom: 0.5em;}#sk-container-id-2 div.sk-estimator:hover {background-color: #d4ebff;}#sk-container-id-2 div.sk-parallel-item::after {content: \"\";width: 100%;border-bottom: 1px solid gray;flex-grow: 1;}#sk-container-id-2 div.sk-label:hover label.sk-toggleable__label {background-color: #d4ebff;}#sk-container-id-2 div.sk-serial::before {content: \"\";position: absolute;border-left: 1px solid gray;box-sizing: border-box;top: 0;bottom: 0;left: 50%;z-index: 0;}#sk-container-id-2 div.sk-serial {display: flex;flex-direction: column;align-items: center;background-color: white;padding-right: 0.2em;padding-left: 0.2em;position: relative;}#sk-container-id-2 div.sk-item {position: relative;z-index: 1;}#sk-container-id-2 div.sk-parallel {display: flex;align-items: stretch;justify-content: center;background-color: white;position: relative;}#sk-container-id-2 div.sk-item::before, #sk-container-id-2 div.sk-parallel-item::before {content: \"\";position: absolute;border-left: 1px solid gray;box-sizing: border-box;top: 0;bottom: 0;left: 50%;z-index: -1;}#sk-container-id-2 div.sk-parallel-item {display: flex;flex-direction: column;z-index: 1;position: relative;background-color: white;}#sk-container-id-2 div.sk-parallel-item:first-child::after {align-self: flex-end;width: 50%;}#sk-container-id-2 div.sk-parallel-item:last-child::after {align-self: flex-start;width: 50%;}#sk-container-id-2 div.sk-parallel-item:only-child::after {width: 0;}#sk-container-id-2 div.sk-dashed-wrapped {border: 1px dashed gray;margin: 0 0.4em 0.5em 0.4em;box-sizing: border-box;padding-bottom: 0.4em;background-color: white;}#sk-container-id-2 div.sk-label label {font-family: monospace;font-weight: bold;display: inline-block;line-height: 1.2em;}#sk-container-id-2 div.sk-label-container {text-align: center;}#sk-container-id-2 div.sk-container {/* jupyter's `normalize.less` sets `[hidden] { display: none; }` but bootstrap.min.css set `[hidden] { display: none !important; }` so we also need the `!important` here to be able to override the default hidden behavior on the sphinx rendered scikit-learn.org. See: https://github.com/scikit-learn/scikit-learn/issues/21755 */display: inline-block !important;position: relative;}#sk-container-id-2 div.sk-text-repr-fallback {display: none;}</style><div id=\"sk-container-id-2\" class=\"sk-top-container\"><div class=\"sk-text-repr-fallback\"><pre>LinearRegression()</pre><b>In a Jupyter environment, please rerun this cell to show the HTML representation or trust the notebook. <br />On GitHub, the HTML representation is unable to render, please try loading this page with nbviewer.org.</b></div><div class=\"sk-container\" hidden><div class=\"sk-item\"><div class=\"sk-estimator sk-toggleable\"><input class=\"sk-toggleable__control sk-hidden--visually\" id=\"sk-estimator-id-2\" type=\"checkbox\" checked><label for=\"sk-estimator-id-2\" class=\"sk-toggleable__label sk-toggleable__label-arrow\">LinearRegression</label><div class=\"sk-toggleable__content\"><pre>LinearRegression()</pre></div></div></div></div></div>"
     },
     "execution_count": 24,
     "metadata": {},
     "output_type": "execute_result"
    }
   ],
   "source": [
    "# tạo mô hình Linear Regression\n",
    "model = LinearRegression()\n",
    "model.fit(X_train, y_train)"
   ],
   "metadata": {
    "collapsed": false
   }
  },
  {
   "cell_type": "code",
   "execution_count": 25,
   "outputs": [
    {
     "data": {
      "text/plain": "0.04599983844868949"
     },
     "execution_count": 25,
     "metadata": {},
     "output_type": "execute_result"
    }
   ],
   "source": [
    "y_pred = model.predict(X_test)\n",
    "mse = mean_squared_error(y_test, y_pred)\n",
    "mse"
   ],
   "metadata": {
    "collapsed": false
   }
  },
  {
   "cell_type": "code",
   "execution_count": 26,
   "outputs": [
    {
     "name": "stdout",
     "output_type": "stream",
     "text": [
      "Epoch 1/15\n",
      "3384/3384 [==============================] - 3s 768us/step - loss: 0.0457\n",
      "Epoch 2/15\n",
      "3384/3384 [==============================] - 2s 682us/step - loss: 0.0456\n",
      "Epoch 3/15\n",
      "3384/3384 [==============================] - 2s 719us/step - loss: 0.0456\n",
      "Epoch 4/15\n",
      "3384/3384 [==============================] - 3s 796us/step - loss: 0.0456\n",
      "Epoch 5/15\n",
      "3384/3384 [==============================] - 3s 904us/step - loss: 0.0456\n",
      "Epoch 6/15\n",
      "3384/3384 [==============================] - 3s 870us/step - loss: 0.0456\n",
      "Epoch 7/15\n",
      "3384/3384 [==============================] - 3s 835us/step - loss: 0.0456\n",
      "Epoch 8/15\n",
      "3384/3384 [==============================] - 3s 840us/step - loss: 0.0455\n",
      "Epoch 9/15\n",
      "3384/3384 [==============================] - 3s 842us/step - loss: 0.0455\n",
      "Epoch 10/15\n",
      "3384/3384 [==============================] - 3s 829us/step - loss: 0.0455\n",
      "Epoch 11/15\n",
      "3384/3384 [==============================] - 3s 809us/step - loss: 0.0456\n",
      "Epoch 12/15\n",
      "3384/3384 [==============================] - 3s 800us/step - loss: 0.0455\n",
      "Epoch 13/15\n",
      "3384/3384 [==============================] - 3s 817us/step - loss: 0.0455\n",
      "Epoch 14/15\n",
      "3384/3384 [==============================] - 3s 805us/step - loss: 0.0455\n",
      "Epoch 15/15\n",
      "3384/3384 [==============================] - 3s 806us/step - loss: 0.0455\n"
     ]
    },
    {
     "data": {
      "text/plain": "<keras.callbacks.History at 0x156ca9a2f70>"
     },
     "execution_count": 26,
     "metadata": {},
     "output_type": "execute_result"
    }
   ],
   "source": [
    "# tạo model neural network với keras\n",
    "\n",
    "import tensorflow as tf\n",
    "model = tf.keras.models.Sequential([\n",
    "    tf.keras.layers.Dense(64, activation='relu', input_shape=(X_train.shape[1],)),\n",
    "    tf.keras.layers.Dense(64, activation='relu'),\n",
    "    tf.keras.layers.Dense(1)\n",
    "])\n",
    "\n",
    "model.compile(optimizer='adam', loss='mean_squared_error')\n",
    "model.fit(X_train, y_train, epochs=15, batch_size=32, verbose=1)\n"
   ],
   "metadata": {
    "collapsed": false
   }
  },
  {
   "cell_type": "code",
   "execution_count": 27,
   "outputs": [
    {
     "data": {
      "text/plain": "0.05173488530457273"
     },
     "execution_count": 27,
     "metadata": {},
     "output_type": "execute_result"
    }
   ],
   "source": [
    "y_pred = model.predict(X_test)\n",
    "mse = mean_squared_error(y_test, y_pred)\n",
    "mse"
   ],
   "metadata": {
    "collapsed": false
   }
  },
  {
   "cell_type": "code",
   "execution_count": 28,
   "outputs": [
    {
     "data": {
      "text/plain": "RandomForestRegressor()",
      "text/html": "<style>#sk-container-id-3 {color: black;background-color: white;}#sk-container-id-3 pre{padding: 0;}#sk-container-id-3 div.sk-toggleable {background-color: white;}#sk-container-id-3 label.sk-toggleable__label {cursor: pointer;display: block;width: 100%;margin-bottom: 0;padding: 0.3em;box-sizing: border-box;text-align: center;}#sk-container-id-3 label.sk-toggleable__label-arrow:before {content: \"▸\";float: left;margin-right: 0.25em;color: #696969;}#sk-container-id-3 label.sk-toggleable__label-arrow:hover:before {color: black;}#sk-container-id-3 div.sk-estimator:hover label.sk-toggleable__label-arrow:before {color: black;}#sk-container-id-3 div.sk-toggleable__content {max-height: 0;max-width: 0;overflow: hidden;text-align: left;background-color: #f0f8ff;}#sk-container-id-3 div.sk-toggleable__content pre {margin: 0.2em;color: black;border-radius: 0.25em;background-color: #f0f8ff;}#sk-container-id-3 input.sk-toggleable__control:checked~div.sk-toggleable__content {max-height: 200px;max-width: 100%;overflow: auto;}#sk-container-id-3 input.sk-toggleable__control:checked~label.sk-toggleable__label-arrow:before {content: \"▾\";}#sk-container-id-3 div.sk-estimator input.sk-toggleable__control:checked~label.sk-toggleable__label {background-color: #d4ebff;}#sk-container-id-3 div.sk-label input.sk-toggleable__control:checked~label.sk-toggleable__label {background-color: #d4ebff;}#sk-container-id-3 input.sk-hidden--visually {border: 0;clip: rect(1px 1px 1px 1px);clip: rect(1px, 1px, 1px, 1px);height: 1px;margin: -1px;overflow: hidden;padding: 0;position: absolute;width: 1px;}#sk-container-id-3 div.sk-estimator {font-family: monospace;background-color: #f0f8ff;border: 1px dotted black;border-radius: 0.25em;box-sizing: border-box;margin-bottom: 0.5em;}#sk-container-id-3 div.sk-estimator:hover {background-color: #d4ebff;}#sk-container-id-3 div.sk-parallel-item::after {content: \"\";width: 100%;border-bottom: 1px solid gray;flex-grow: 1;}#sk-container-id-3 div.sk-label:hover label.sk-toggleable__label {background-color: #d4ebff;}#sk-container-id-3 div.sk-serial::before {content: \"\";position: absolute;border-left: 1px solid gray;box-sizing: border-box;top: 0;bottom: 0;left: 50%;z-index: 0;}#sk-container-id-3 div.sk-serial {display: flex;flex-direction: column;align-items: center;background-color: white;padding-right: 0.2em;padding-left: 0.2em;position: relative;}#sk-container-id-3 div.sk-item {position: relative;z-index: 1;}#sk-container-id-3 div.sk-parallel {display: flex;align-items: stretch;justify-content: center;background-color: white;position: relative;}#sk-container-id-3 div.sk-item::before, #sk-container-id-3 div.sk-parallel-item::before {content: \"\";position: absolute;border-left: 1px solid gray;box-sizing: border-box;top: 0;bottom: 0;left: 50%;z-index: -1;}#sk-container-id-3 div.sk-parallel-item {display: flex;flex-direction: column;z-index: 1;position: relative;background-color: white;}#sk-container-id-3 div.sk-parallel-item:first-child::after {align-self: flex-end;width: 50%;}#sk-container-id-3 div.sk-parallel-item:last-child::after {align-self: flex-start;width: 50%;}#sk-container-id-3 div.sk-parallel-item:only-child::after {width: 0;}#sk-container-id-3 div.sk-dashed-wrapped {border: 1px dashed gray;margin: 0 0.4em 0.5em 0.4em;box-sizing: border-box;padding-bottom: 0.4em;background-color: white;}#sk-container-id-3 div.sk-label label {font-family: monospace;font-weight: bold;display: inline-block;line-height: 1.2em;}#sk-container-id-3 div.sk-label-container {text-align: center;}#sk-container-id-3 div.sk-container {/* jupyter's `normalize.less` sets `[hidden] { display: none; }` but bootstrap.min.css set `[hidden] { display: none !important; }` so we also need the `!important` here to be able to override the default hidden behavior on the sphinx rendered scikit-learn.org. See: https://github.com/scikit-learn/scikit-learn/issues/21755 */display: inline-block !important;position: relative;}#sk-container-id-3 div.sk-text-repr-fallback {display: none;}</style><div id=\"sk-container-id-3\" class=\"sk-top-container\"><div class=\"sk-text-repr-fallback\"><pre>RandomForestRegressor()</pre><b>In a Jupyter environment, please rerun this cell to show the HTML representation or trust the notebook. <br />On GitHub, the HTML representation is unable to render, please try loading this page with nbviewer.org.</b></div><div class=\"sk-container\" hidden><div class=\"sk-item\"><div class=\"sk-estimator sk-toggleable\"><input class=\"sk-toggleable__control sk-hidden--visually\" id=\"sk-estimator-id-3\" type=\"checkbox\" checked><label for=\"sk-estimator-id-3\" class=\"sk-toggleable__label sk-toggleable__label-arrow\">RandomForestRegressor</label><div class=\"sk-toggleable__content\"><pre>RandomForestRegressor()</pre></div></div></div></div></div>"
     },
     "execution_count": 28,
     "metadata": {},
     "output_type": "execute_result"
    }
   ],
   "source": [
    "# sử dụng randomforest\n",
    "from sklearn.ensemble import RandomForestRegressor\n",
    "model = RandomForestRegressor()\n",
    "model.fit(X_train, y_train)"
   ],
   "metadata": {
    "collapsed": false
   }
  },
  {
   "cell_type": "code",
   "execution_count": 29,
   "outputs": [
    {
     "data": {
      "text/plain": "0.05261427770072671"
     },
     "execution_count": 29,
     "metadata": {},
     "output_type": "execute_result"
    }
   ],
   "source": [
    "y_pred = model.predict(X_test)\n",
    "mse = mean_squared_error(y_test, y_pred)\n",
    "mse"
   ],
   "metadata": {
    "collapsed": false
   }
  }
 ],
 "metadata": {
  "kernelspec": {
   "display_name": "Python 3",
   "language": "python",
   "name": "python3"
  },
  "language_info": {
   "codemirror_mode": {
    "name": "ipython",
    "version": 2
   },
   "file_extension": ".py",
   "mimetype": "text/x-python",
   "name": "python",
   "nbconvert_exporter": "python",
   "pygments_lexer": "ipython2",
   "version": "2.7.6"
  }
 },
 "nbformat": 4,
 "nbformat_minor": 0
}
